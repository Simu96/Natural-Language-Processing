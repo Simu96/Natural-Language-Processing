{
  "nbformat": 4,
  "nbformat_minor": 0,
  "metadata": {
    "colab": {
      "name": "Natural_language_processing",
      "provenance": [],
      "authorship_tag": "ABX9TyON8crUQSzcuO7xN30VxM+O",
      "include_colab_link": true
    },
    "kernelspec": {
      "name": "python3",
      "display_name": "Python 3"
    }
  },
  "cells": [
    {
      "cell_type": "markdown",
      "metadata": {
        "id": "view-in-github",
        "colab_type": "text"
      },
      "source": [
        "<a href=\"https://colab.research.google.com/github/Simu96/Topic-modeling/blob/main/Natural_language_processing.ipynb\" target=\"_parent\"><img src=\"https://colab.research.google.com/assets/colab-badge.svg\" alt=\"Open In Colab\"/></a>"
      ]
    },
    {
      "cell_type": "markdown",
      "metadata": {
        "id": "FMVwp6g3p7Hp"
      },
      "source": [
        "Pandas 이용 간단한 자연어 처리"
      ]
    },
    {
      "cell_type": "code",
      "metadata": {
        "id": "OaGQC6AkpJUy"
      },
      "source": [
        "import pandas as pd"
      ],
      "execution_count": null,
      "outputs": []
    },
    {
      "cell_type": "code",
      "metadata": {
        "id": "GIJyR_wPqELP",
        "outputId": "27e87371-7d0c-49c3-82f0-3326279643e6",
        "colab": {
          "base_uri": "https://localhost:8080/"
        }
      },
      "source": [
        "# Series 이용\n",
        "sr = pd.Series([17000, 18000, 1000, 5000],\n",
        "               index = [\"피자\", \"치킨\", \"콜라\", \"맥주\"])\n",
        "print(sr)"
      ],
      "execution_count": 3,
      "outputs": [
        {
          "output_type": "stream",
          "text": [
            "피자    17000\n",
            "치킨    18000\n",
            "콜라     1000\n",
            "맥주     5000\n",
            "dtype: int64\n"
          ],
          "name": "stdout"
        }
      ]
    },
    {
      "cell_type": "code",
      "metadata": {
        "id": "qNo8MJW9qEUR",
        "outputId": "a38f50cf-f926-46fe-a2a3-339ee80fad93",
        "colab": {
          "base_uri": "https://localhost:8080/"
        }
      },
      "source": [
        "print(sr.values)"
      ],
      "execution_count": 4,
      "outputs": [
        {
          "output_type": "stream",
          "text": [
            "[17000 18000  1000  5000]\n"
          ],
          "name": "stdout"
        }
      ]
    },
    {
      "cell_type": "code",
      "metadata": {
        "id": "VnaSkhnsqEWa",
        "outputId": "de7d057a-0ef7-48d1-fbde-55afc782d490",
        "colab": {
          "base_uri": "https://localhost:8080/"
        }
      },
      "source": [
        "print(sr.index)"
      ],
      "execution_count": 5,
      "outputs": [
        {
          "output_type": "stream",
          "text": [
            "Index(['피자', '치킨', '콜라', '맥주'], dtype='object')\n"
          ],
          "name": "stdout"
        }
      ]
    },
    {
      "cell_type": "code",
      "metadata": {
        "id": "TvXNrIooqEYt",
        "outputId": "4218b3f8-fdcb-4b33-e980-6252ae1b31df",
        "colab": {
          "base_uri": "https://localhost:8080/"
        }
      },
      "source": [
        "#데이터프레임, 2차원 리스트를 매개변수로 전달\n",
        "values = [[1, 2, 3], [4, 5, 6], [7, 8, 9]]\n",
        "#행방향 인덱스\n",
        "index = ['one', 'two', 'three']\n",
        "#열방향 인덱스\n",
        "columns = ['A', 'B', 'C']\n",
        "\n",
        "df = pd.DataFrame(values, index=index, columns=columns)\n",
        "print(df)"
      ],
      "execution_count": 6,
      "outputs": [
        {
          "output_type": "stream",
          "text": [
            "       A  B  C\n",
            "one    1  2  3\n",
            "two    4  5  6\n",
            "three  7  8  9\n"
          ],
          "name": "stdout"
        }
      ]
    },
    {
      "cell_type": "code",
      "metadata": {
        "id": "qcPJuajZq11_",
        "outputId": "3ffdc31b-0602-4b99-eb03-922d7394e0ab",
        "colab": {
          "base_uri": "https://localhost:8080/"
        }
      },
      "source": [
        "#행 인덱스 출력\n",
        "print(df.index)"
      ],
      "execution_count": 7,
      "outputs": [
        {
          "output_type": "stream",
          "text": [
            "Index(['one', 'two', 'three'], dtype='object')\n"
          ],
          "name": "stdout"
        }
      ]
    },
    {
      "cell_type": "code",
      "metadata": {
        "id": "AaWhQt7Hq2AD",
        "outputId": "ab99d030-ca19-4bd7-b6a8-53e2b50cf5b4",
        "colab": {
          "base_uri": "https://localhost:8080/"
        }
      },
      "source": [
        "#열 인덱스 출력\n",
        "print(df.columns)"
      ],
      "execution_count": 8,
      "outputs": [
        {
          "output_type": "stream",
          "text": [
            "Index(['A', 'B', 'C'], dtype='object')\n"
          ],
          "name": "stdout"
        }
      ]
    },
    {
      "cell_type": "code",
      "metadata": {
        "id": "eyfwWWn0q2Cj"
      },
      "source": [
        ""
      ],
      "execution_count": null,
      "outputs": []
    }
  ]
}